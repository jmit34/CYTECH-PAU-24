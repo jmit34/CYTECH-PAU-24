{
 "cells": [
  {
   "cell_type": "markdown",
   "metadata": {},
   "source": [
    "<table>\n",
    "   <tr>     \n",
    "    <td><img src=\"./images/logo-qiskit.png\" alt=\"Note: In order for images to show up in this jupyter notebook you need to select File => Trusted Notebook\" width=\"100 px\" align=\"left\"></td>\n",
    "    <td>  </td>\n",
    "    <td><img src=\"./images/logo-IBM.png\" alt=\"Note: In order for images to show up in this jupyter notebook you need to select File => Trusted Notebook\" width=\"100 px\" align=\"left\"></td>\n",
    "   </tr>\n",
    "</table>\n",
    "<br>\n",
    "\n",
    "<center>\n",
    "<div class=\"alert alert-block alert-info\">\n",
    " 02 des circuits élémentaires avec qiskit\n",
    "</div>\n",
    "</center>\n",
    "\n",
    "1. états quantiques\n",
    "2. Toffoli , Fredkin\n",
    "2. anti CNOT\n",
    "3. GHZ\n",
    "4. Adder, adder en cascade\n",
    "5. Bell$^8$ "
   ]
  },
  {
   "cell_type": "markdown",
   "metadata": {},
   "source": [
    "### 1. états élémentaires sur un qubit avec  `statevector_simulator`"
   ]
  },
  {
   "cell_type": "markdown",
   "metadata": {},
   "source": [
    "### Exemple : \n",
    "\n",
    "voici comment on va de $|0\\rangle$ à $|1\\rangle$ "
   ]
  },
  {
   "cell_type": "code",
   "execution_count": null,
   "metadata": {},
   "outputs": [],
   "source": [
    "from qiskit import Aer, QuantumCircuit, execute\n",
    "from qiskit.visualization import plot_histogram, plot_state_qsphere\n",
    "from qiskit.quantum_info import Statevector\n",
    "from IPython.display import display, Math, Latex\n",
    "import numpy as np\n",
    "\n",
    "qc = QuantumCircuit(1)\n",
    "#qc.x(0)\n",
    "qc.ry(np.pi/3,0)\n",
    "qc.rz(np.pi/2,0)\n",
    "\n",
    "\n",
    "sv = Statevector.from_label('0')\n",
    "sv = sv.evolve(qc)\n",
    "\n",
    "plot_state_qsphere(sv.data, show_state_labels=True, show_state_phases=True) "
   ]
  },
  {
   "cell_type": "markdown",
   "metadata": {},
   "source": [
    "### A vous de jouer : \n",
    "\n",
    "#### Créez un état superposé, le but est d'atteindre l'état  $|+\\rangle = \\frac{1}{\\sqrt{2}}\\left(|0\\rangle + |1\\rangle\\right)$ en partant de l'état $\\vert0\\rangle$. </em></span>"
   ]
  },
  {
   "cell_type": "code",
   "execution_count": null,
   "metadata": {},
   "outputs": [],
   "source": [
    "qc = QuantumCircuit(1)\n",
    "qc.h(0)\n",
    "\n",
    "sv = Statevector.from_label('0')\n",
    "sv = sv.evolve(qc)\n",
    "\n",
    "plot_state_qsphere(sv.data, show_state_labels=True, show_state_phases=True) "
   ]
  },
  {
   "cell_type": "markdown",
   "metadata": {},
   "source": [
    "\n",
    "#### Créez l'état   $|-\\rangle = \\frac{1}{\\sqrt{2}}\\left(|0\\rangle - |1\\rangle\\right)$ en partant de l'état $\\vert0\\rangle$. </em></span>"
   ]
  },
  {
   "cell_type": "code",
   "execution_count": null,
   "metadata": {},
   "outputs": [],
   "source": [
    "qc = QuantumCircuit(1)\n",
    "\n",
    "qc.h(0)\n",
    "\n",
    "sv = Statevector.from_label('1')\n",
    "sv = sv.evolve(qc)\n",
    "\n",
    "plot_state_qsphere(sv.data, show_state_labels=True, show_state_phases=True) "
   ]
  },
  {
   "cell_type": "markdown",
   "metadata": {},
   "source": [
    "\n",
    "#### Créez l'état  $|\\circlearrowleft\\rangle = |-i\\rangle = \\frac{1}{\\sqrt{2}}\\left(|0\\rangle - i|1\\rangle\\right)$ en partant de l'état $\\vert0\\rangle$. "
   ]
  },
  {
   "cell_type": "code",
   "execution_count": null,
   "metadata": {},
   "outputs": [],
   "source": [
    "qc = QuantumCircuit(1)\n",
    "#qc.h(0)\n",
    "#qc.sdg(0)\n",
    "\n",
    "sv = Statevector.from_label('+')\n",
    "sv = sv.evolve(qc)\n",
    "\n",
    "plot_state_qsphere(sv.data, show_state_labels=True, show_state_phases=True) "
   ]
  },
  {
   "cell_type": "code",
   "execution_count": null,
   "metadata": {},
   "outputs": [],
   "source": [
    "sv.data"
   ]
  },
  {
   "cell_type": "markdown",
   "metadata": {},
   "source": [
    "### Contruisez cet état de Bell $|\\Psi^{00}\\rangle = \\frac{1}{\\sqrt{2}}\\left(|00\\rangle + |11\\rangle\\right)$. \n",
    "\n",
    "<img src=\"./images/plus.png\" width=\"300\"> \n"
   ]
  },
  {
   "cell_type": "code",
   "execution_count": null,
   "metadata": {},
   "outputs": [],
   "source": [
    "qc = QuantumCircuit(2)\n",
    "qc.h(0)\n",
    "qc.cx(0,1)\n",
    "\n",
    "sv = Statevector.from_label('00')\n",
    "sv = sv.evolve(qc)\n",
    "\n",
    "plot_state_qsphere(sv.data, show_state_labels=True, show_state_phases=True) "
   ]
  },
  {
   "cell_type": "markdown",
   "metadata": {},
   "source": [
    " ###   Maintenant construisons un autre état de Bell :  $\\vert\\Psi^{11}\\rangle = \\frac{1}{\\sqrt{2}}\\left(\\vert01\\rangle - \\vert10\\rangle\\right)$. <img src=\"./images/psi-.png\" width=\"300\"> "
   ]
  },
  {
   "cell_type": "code",
   "execution_count": null,
   "metadata": {},
   "outputs": [],
   "source": [
    "qc = QuantumCircuit(2)\n",
    "qc.h(0)\n",
    "qc.x(1)\n",
    "qc.y(0)\n",
    "qc.cx(0,1)\n",
    "\n",
    "sv = Statevector.from_label('00')\n",
    "sv = sv.evolve(qc)\n",
    "\n",
    "plot_state_qsphere(sv.data, show_state_labels=True, show_state_phases=True) "
   ]
  },
  {
   "cell_type": "markdown",
   "metadata": {},
   "source": [
    "### on donne le circuit suivant pour fabriquer un état initial \n",
    "\n",
    "Ensuite, swapez les états entre les deux qubits.  \n",
    "l'état des deux qubits devrait passer de l'image de gauche (après initialisation) à celle de droite (après swap): \n",
    "\n",
    "\n",
    "<table>\n",
    "   <tr>     \n",
    "    <td><img src=\"./images/state_avant_swap.png\" alt=\"Note: In order for images to show up in this jupyter notebook you need to select File => Trusted Notebook\" width=\"250 px\" align=\"left\"></td>\n",
    "    <td>  </td>\n",
    "    <td><img src=\"./images/state_apres_swap.png\" alt=\"Note: In order for images to show up in this jupyter notebook you need to select File => Trusted Notebook\" width=\"250 px\" align=\"left\"></td>\n",
    "   </tr>\n",
    "</table>\n",
    "\n",
    "Expliquez ! :-) \n",
    "\n"
   ]
  },
  {
   "cell_type": "code",
   "execution_count": null,
   "metadata": {},
   "outputs": [],
   "source": [
    "qc = QuantumCircuit(2)\n",
    "## partie initialisation\n",
    "qc.rx(np.pi/3,0)\n",
    "qc.x(1)\n",
    "## fin de l'initialisation \n",
    "# Composez votre circuit ici #####\n",
    "\n",
    "qc.swap(0,1)\n",
    "\n",
    "#################################\n",
    "sv = Statevector.from_label('00')\n",
    "sv = sv.evolve(qc)\n",
    "print(sv)\n",
    "plot_state_qsphere(sv.data, show_state_labels=True, show_state_phases=True) "
   ]
  },
  {
   "cell_type": "markdown",
   "metadata": {},
   "source": [
    "## 2. Toffoli, Fredkin\n",
    "\n",
    "A présent avec qasm_simulator"
   ]
  },
  {
   "cell_type": "markdown",
   "metadata": {},
   "source": [
    "###  CONTROL-CONTROL-NOT, CCNOT, ccx, aka Toffoli gate\n",
    "\n",
    "### if a = 1 and b = 1, then flip c\n",
    "<img src=\"./images/Toffoli.png\" alt=\"Note: In order for images to show up in this jupyter notebook you need to select File => Trusted Notebook\" width=\"350 px\" align=\"left\">\n",
    "\n",
    "control-control-not syntax : \n",
    "\n",
    "`<circuit>.ccx(control_qubitA, control_qubitB, target_qubit)`\n",
    "\n",
    "Build a circuit, and run it using non trival input values\n"
   ]
  },
  {
   "cell_type": "markdown",
   "metadata": {},
   "source": [
    "Voici pour Toffoli : "
   ]
  },
  {
   "cell_type": "code",
   "execution_count": null,
   "metadata": {},
   "outputs": [],
   "source": [
    "from qiskit import QuantumRegister, ClassicalRegister, QuantumCircuit, execute, Aer\n",
    "qc = QuantumCircuit(3)\n",
    "qc.x(0)\n",
    "qc.x(1)\n",
    "qc.x(2)\n",
    "\n",
    "qc.ccx(0,1,2)\n",
    "qc.measure_all()\n",
    "qc.draw()"
   ]
  },
  {
   "cell_type": "code",
   "execution_count": null,
   "metadata": {},
   "outputs": [],
   "source": [
    "# with shots=1, you will get a count of 1 either on 00 or on 11\n",
    "backend = Aer.get_backend('qasm_simulator')\n",
    "job = execute(qc,backend)\n",
    "my_results = job.result()\n",
    "print(my_results.get_counts(qc))"
   ]
  },
  {
   "cell_type": "markdown",
   "metadata": {},
   "source": [
    "##  CONTROL-SWAP aka Fredkin gate\n",
    "\n",
    "### if a = 1 then swap b and c states.\n",
    "<img src=\"./images/Fredkin.png\" alt=\"Note: In order for images to show up in this jupyter notebook you need to select File => Trusted Notebook\" width=\"350 px\" align=\"left\">\n",
    "Notes: \n",
    " \n",
    "    \n",
    "\n",
    "control-swap syntax: \n",
    "\n",
    "`<circuit>.cswap(control_qubit, swapped_qubit, swapped_qubit)`\n",
    "\n",
    "Build a circuit, and run it using non trival input values\n"
   ]
  },
  {
   "cell_type": "code",
   "execution_count": null,
   "metadata": {},
   "outputs": [],
   "source": [
    "on redémarrae ici "
   ]
  },
  {
   "cell_type": "markdown",
   "metadata": {},
   "source": [
    "### Anti-CNOT\n",
    "\n",
    "On cherche à construire un circuit qui fait : \n",
    "\n",
    "$|00\\rangle \\rightarrow |01\\rangle$\n",
    "\n",
    "$|01\\rangle \\rightarrow |00\\rangle$\n",
    "\n",
    "$|10\\rangle \\rightarrow |10\\rangle$\n",
    "\n",
    "$|11\\rangle \\rightarrow |11\\rangle$\n",
    "\n"
   ]
  },
  {
   "cell_type": "code",
   "execution_count": null,
   "metadata": {},
   "outputs": [],
   "source": []
  },
  {
   "cell_type": "markdown",
   "metadata": {},
   "source": [
    "### Etat GHZ : "
   ]
  },
  {
   "cell_type": "markdown",
   "metadata": {},
   "source": [
    "#### Ecrivez un programme depuis le début qui produit l'état GHZ sur 3 qubit$\\vert \\text{GHZ}\\rangle = \\frac{1}{\\sqrt{2}} \\left(|000\\rangle + |111 \\rangle \\right)$, effetcuez les mesures sur 2000 occurences, affichez le résultat.\n",
    "    \n",
    "Faites le en statevector_simulateur puis en qasm_simulator. \n",
    "\n",
    "\"automatisez\" les codes pour faire des GHZ de $n$ qubits. \n",
    "    \n",
    "\n",
    "<table>\n",
    "   <tr>     \n",
    "    <td><img src=\"./images/ghz.png\" alt=\"Note: In order for images to show up in this jupyter notebook you need to select File => Trusted Notebook\" width=\"250 px\" align=\"left\"></td>\n",
    "    <td>  </td>\n",
    "    <td><img src=\"./images/ghz_plot.png\" alt=\"Note: In order for images to show up in this jupyter notebook you need to select File => Trusted Notebook\" width=\"250 px\" align=\"left\"></td>\n",
    "   </tr>\n",
    "</table>\n",
    " "
   ]
  },
  {
   "cell_type": "code",
   "execution_count": null,
   "metadata": {},
   "outputs": [],
   "source": [
    "from qiskit import QuantumRegister, ClassicalRegister, QuantumCircuit, execute, Aer\n",
    "\n",
    "\n",
    "\n",
    "qc.draw()"
   ]
  },
  {
   "cell_type": "code",
   "execution_count": null,
   "metadata": {},
   "outputs": [],
   "source": [
    "\n",
    "\n",
    "# with shots=1, you will get a count of 1 either on 00 or on 11\n",
    "backend = Aer.get_backend('qasm_simulator')\n",
    "job = execute(qc,backend)\n",
    "my_results = job.result()\n",
    "print(my_results.get_counts(qc))"
   ]
  },
  {
   "cell_type": "markdown",
   "metadata": {},
   "source": [
    "### L'additionneur : \n",
    "\n",
    "\n",
    "- Le dessin ci-dessous représente le circuit pour un additionneur à deux qubit avec retenue. \n",
    "<img src=\"./images/adder.png\" alt=\"full 2 qubit adder\" style=\"width: 600px;\"/>\n",
    "\n",
    "- Construire le circuit quantique correspondant,\n",
    "\n",
    "- Automatisez le pour vérifier le résultat pour les 8 entrées possibles (000 à 111),\n",
    "\n",
    "- Que se passe-t'il si on lui fournit (en $A$,$B$,$C_{in}$) une superposition des 3 valeurs ? \n"
   ]
  },
  {
   "cell_type": "code",
   "execution_count": null,
   "metadata": {},
   "outputs": [],
   "source": [
    "from qiskit import QuantumRegister, ClassicalRegister, QuantumCircuit, execute\n",
    "from qiskit import Aer\n",
    "backend = Aer.get_backend('qasm_simulator')"
   ]
  },
  {
   "cell_type": "code",
   "execution_count": null,
   "metadata": {},
   "outputs": [],
   "source": []
  },
  {
   "cell_type": "markdown",
   "metadata": {},
   "source": [
    "#### On va construire pour additionner 2 registres de 2 qubits en chaînant plusieurs additionneurs à 2 qubits : \n",
    "- on pourra utiliser la méthode `.to_gate` pour transformer le circuit adder en porte quantique (à 4 qubits),\n",
    "- pour utiliser la porte ainsi créée, on pourra utiliser `.append()`, en connectant correctement les qubits de sortie d'un étage aux qubits d'entrée du suivant.\n",
    "\n",
    "(puis 3q + 3q), et 8q+8q ... pour voir (en automatisant la construction du circuit)"
   ]
  },
  {
   "cell_type": "code",
   "execution_count": null,
   "metadata": {},
   "outputs": [],
   "source": []
  },
  {
   "cell_type": "markdown",
   "metadata": {},
   "source": [
    "## Bell$^8$\n",
    "\n",
    "- par le calcul (numpy, matrices) :\n",
    "    - que vaut la matrice $B$ produisant l'état de Bell ? \n",
    "    - calculez les puissances de $B$, jusqu'à $B^8$\n",
    "    \n",
    "- même chose avec qiskit, en fabriquant une gate `B` et en l'ajoutant à un `qc` huit fois. \n"
   ]
  },
  {
   "cell_type": "code",
   "execution_count": null,
   "metadata": {},
   "outputs": [],
   "source": []
  }
 ],
 "metadata": {
  "kernelspec": {
   "display_name": "Python 3 (ipykernel)",
   "language": "python",
   "name": "python3"
  },
  "language_info": {
   "codemirror_mode": {
    "name": "ipython",
    "version": 3
   },
   "file_extension": ".py",
   "mimetype": "text/x-python",
   "name": "python",
   "nbconvert_exporter": "python",
   "pygments_lexer": "ipython3",
   "version": "3.11.4"
  }
 },
 "nbformat": 4,
 "nbformat_minor": 4
}
