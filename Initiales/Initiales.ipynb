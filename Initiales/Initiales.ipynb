{
 "cells": [
  {
   "cell_type": "markdown",
   "metadata": {},
   "source": [
    "#  Your initials\n",
    "\n",
    "Jean-Michel Torres 2020-01-30, IBM Q Hub France\n",
    "\n",
    "\n",
    "Star & Download from: https://github.com/jmit34/\n",
    "\n",
    "### Use QISKit to build a circuit to entangle 2 letters\n",
    "\n",
    "<ol>\n",
    "    <li>Instructions and data</li>\n",
    "    <li>Setup (imports)</li>\n",
    "    <li>Your circuit</li>\n",
    "    <li>Result</li>\n",
    "</ol>"
   ]
  },
  {
   "cell_type": "markdown",
   "metadata": {},
   "source": [
    "## 1. Instructions & Data\n",
    "\n",
    "\n",
    "The purpose of this exercise is to build a circuit that produces two equally probable bitstrings.\n",
    "\n",
    "We will use a 7 qubit register and the ASCII code to represent letters from A to Z. ($b'1000001'$ for A to $b'1011010'$ for Z). \n",
    "\n",
    "The result will show something like this : \n",
    "\n",
    "<img src=\"./images/GT-initials.png\" alt=\"Note: In order for images to show up in this jupyter notebook you need to select File => Trusted Notebook\" width=\"350 px\" align=\"center\">\n",
    "\n",
    "\n",
    "Program imports and letter display are provided. \n",
    "\n",
    "You will have to : \n",
    "\n",
    "- pick-up two different letters (firstname, name, use middlemane if firstname and name have the same) \n",
    "- look-up for their binary ASCII values\n",
    "- build a quantum circuit that outputs an equal superposition of those two values \n",
    "\n",
    "Here are the ASCII values for A to Z : \n",
    "\n",
    "\n",
    "\n",
    "| Letter | binary ASCII value | Letter | binary ASCII value | \n",
    "| ------ | ------------------ | ------ | ------------------ |\n",
    "| A | 100 0001 | N | 100 1110 |\n",
    "| B | 100 0010 | O | 100 1111 | \n",
    "| C | 100 0011 | P | 101 0000 |\n",
    "| D | 100 0100 | Q | 101 0001 |\n",
    "| E | 100 0101 | R | 101 0010 |\n",
    "| F | 100 0110 | S | 101 0011 |\n",
    "| G | 100 0111 | T | 101 0100 |\n",
    "| H | 100 1000 | U | 101 0101 |\n",
    "| I | 100 1001 | V | 101 0110 |\n",
    "| J | 100 1010 | W | 101 0111 |\n",
    "| K | 100 1011 | X | 101 1000 |\n",
    "| L | 100 1100 | Y | 101 1001 |\n",
    "| M | 100 1101 | Z | 101 1010 |\n"
   ]
  },
  {
   "cell_type": "markdown",
   "metadata": {},
   "source": [
    "## 2. Initializations (imports)"
   ]
  },
  {
   "cell_type": "code",
   "execution_count": null,
   "metadata": {},
   "outputs": [],
   "source": [
    "#from qiskit import ClassicalRegister, QuantumRegister\n",
    "from qiskit import QuantumCircuit, transpile\n",
    "from qiskit.tools.visualization import plot_histogram\n",
    "from qiskit import IBMQ, Aer\n",
    "from qiskit.tools.jupyter import *\n",
    "import matplotlib.pyplot as plt\n",
    "%matplotlib inline"
   ]
  },
  {
   "cell_type": "markdown",
   "metadata": {},
   "source": [
    "## 3. Build your circuit"
   ]
  },
  {
   "cell_type": "code",
   "execution_count": null,
   "metadata": {},
   "outputs": [],
   "source": [
    "# build your circuit here, name it qc\n",
    "\n",
    "qc = QuantumCircuit(7)\n",
    "\n",
    "\n",
    "qc.measure_all()\n",
    "qc.draw()\n"
   ]
  },
  {
   "cell_type": "markdown",
   "metadata": {},
   "source": [
    "## 3. Run to view the result"
   ]
  },
  {
   "cell_type": "code",
   "execution_count": null,
   "metadata": {},
   "outputs": [],
   "source": [
    "backend = Aer.get_backend('aer_simulator')\n",
    "shots_sim = 10\n",
    "\n",
    "tqc = transpile(qc,backend)\n",
    "\n",
    "job_sim = backend.run(qc,shots=shots_sim)\n",
    "stats_sim = job_sim.result().get_counts()\n",
    "\n",
    "def plot_letter (stats, shots):\n",
    "    ### code from the qiskit.org smiley demo\n",
    "    for bitString in stats:\n",
    "        char = chr(int( bitString[0:7] ,2)) # get string of the leftmost 7 bits and convert to an ASCII character\n",
    "        prob = stats[bitString] / shots # fraction of shots for which this result occurred\n",
    "        # create plot with all characters on top of each other with alpha given by how often it turned up in the output\n",
    "        plt.annotate( char, (0.5,0.5), va=\"center\", ha=\"center\", color = (0,0,0, prob ), size = 300)\n",
    "        if (prob>0.05): # list prob and char for the dominant results (occurred for more than 5% of shots)\n",
    "            print(str(prob)+\"\\t\"+char)\n",
    "    plt.axis('off')\n",
    "    plt.show()\n",
    "    \n",
    "print(shots_sim) \n",
    "print(stats_sim)\n",
    "plot_letter(stats_sim, shots_sim)"
   ]
  },
  {
   "cell_type": "code",
   "execution_count": null,
   "metadata": {},
   "outputs": [],
   "source": []
  }
 ],
 "metadata": {
  "kernelspec": {
   "display_name": "Python 3 (ipykernel)",
   "language": "python",
   "name": "python3"
  },
  "language_info": {
   "codemirror_mode": {
    "name": "ipython",
    "version": 3
   },
   "file_extension": ".py",
   "mimetype": "text/x-python",
   "name": "python",
   "nbconvert_exporter": "python",
   "pygments_lexer": "ipython3",
   "version": "3.11.4"
  }
 },
 "nbformat": 4,
 "nbformat_minor": 4
}
